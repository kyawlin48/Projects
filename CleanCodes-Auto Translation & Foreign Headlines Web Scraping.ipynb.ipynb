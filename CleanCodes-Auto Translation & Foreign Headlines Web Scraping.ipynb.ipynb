{
 "cells": [
  {
   "cell_type": "code",
   "execution_count": 1,
   "id": "f7ff36f2-7e1a-4c27-81c6-e8b82f4318c4",
   "metadata": {},
   "outputs": [],
   "source": [
    "import openai\n",
    "import os\n",
    "import bs4\n",
    "import requests\n",
    "import lxml\n",
    "\n",
    "os.environ[\"API_KEY\"] = \"sk-(-----)\"\n",
    "openai.api_key = os.getenv(\"API_KEY\")"
   ]
  },
  {
   "cell_type": "code",
   "execution_count": 2,
   "id": "cd1f39da-2a64-498e-b608-1791e271686e",
   "metadata": {},
   "outputs": [],
   "source": [
    "news_sites = {\n",
    "    \"chinese\": (\"https://cn.chinadaily.com.cn\", \"div.Home_content_Item_Text h1 a\"),\n",
    "    \"arabic\": (\"https://aljazeera.net\", \"h3.fte-article__title\"),\n",
    "    \"english\": (\"https://www.bbc.co.uk/news\", \".gs-c-promo-heading__title\")\n",
    "}"
   ]
  },
  {
   "cell_type": "code",
   "execution_count": 3,
   "id": "39830b76-fab6-47f2-9b35-6bea1069e5bb",
   "metadata": {},
   "outputs": [
    {
     "name": "stdin",
     "output_type": "stream",
     "text": [
      "What language are you interested in hearing new headlines summarised in? chinese\n"
     ]
    }
   ],
   "source": [
    "user_language = input(\"What language are you interested in hearing new headlines summarised in?\")"
   ]
  },
  {
   "cell_type": "code",
   "execution_count": 4,
   "id": "088adf50-b49a-4593-b9ef-f94e1e3084fb",
   "metadata": {},
   "outputs": [],
   "source": [
    "def fetch_headlines(language):\n",
    "    url, tag = news_sites.get(language, (None, None))\n",
    "    if not url:\n",
    "        print(\"language not supported\")\n",
    "        return\n",
    "    response = requests.get(url)\n",
    "    soup = bs4.BeautifulSoup(response.text, 'lxml')\n",
    "    \n",
    "    headlines = [h.getText() for h in soup.select(tag)[:10]]\n",
    "    return headlines\n",
    "    \n",
    "selected_headlines = fetch_headlines(user_language) "
   ]
  },
  {
   "cell_type": "code",
   "execution_count": 5,
   "id": "d8fb0bf8-8603-49e8-ac0c-847954a32e4a",
   "metadata": {},
   "outputs": [],
   "source": [
    "def create_prompt(headlines):\n",
    "    joined_headlines = \"\\n\".join(headlines)\n",
    "    prompt = f\"Translate the following headlines into English:\\n{joined_headlines}\"\n",
    "    return prompt"
   ]
  },
  {
   "cell_type": "code",
   "execution_count": 6,
   "id": "c963cab3-e13a-4324-ab58-df5847dca711",
   "metadata": {},
   "outputs": [
    {
     "name": "stdout",
     "output_type": "stream",
     "text": [
      "\n",
      "\n",
      "Understand the Golden Value of 5.2% Growth\n",
      "Why is Chongyang Festival \"Elderly Day\"?\n",
      "Financial Departments in Various Places Promote Economic Recovery\n",
      "Various Places Launch New Consumption Promotion Measures, International Factors Attract Attention\n",
      "【Qiaoyi Look】Words from Representative Dong Mingzhu to Women\n",
      "The Conflict between Palestine and Israel Cannot Be Resolved, US Position Causes Outrage\n",
      "Ministry of Commerce Spokesperson Answers Reporters' Questions on China-Australia WTO Dispute\n",
      "Hungarian Foreign Minister Calls for EU-China Cooperation, \"Decoupling from China\" Will Knock Down European Economy\n",
      "State Administration of Foreign Exchange: It is Expected that China's Current Account Surplus Will Remain at a Reasonable Scale\n",
      "Shanghai Launches 12 Measures to Strengthen Innovation in the Consumption Market and Expand Consumption\n"
     ]
    }
   ],
   "source": [
    "prompt = create_prompt(selected_headlines)\n",
    "response = openai.Completion.create(\n",
    "    model=\"text-davinci-003\",\n",
    "    prompt=prompt,\n",
    "    temperature=0.1,\n",
    "    max_tokens=500\n",
    ")\n",
    "\n",
    "print(response['choices'][0]['text'])"
   ]
  }
 ],
 "metadata": {
  "kernelspec": {
   "display_name": "Python 3 (ipykernel)",
   "language": "python",
   "name": "python3"
  },
  "language_info": {
   "codemirror_mode": {
    "name": "ipython",
    "version": 3
   },
   "file_extension": ".py",
   "mimetype": "text/x-python",
   "name": "python",
   "nbconvert_exporter": "python",
   "pygments_lexer": "ipython3",
   "version": "3.9.0b3"
  }
 },
 "nbformat": 4,
 "nbformat_minor": 5
}
